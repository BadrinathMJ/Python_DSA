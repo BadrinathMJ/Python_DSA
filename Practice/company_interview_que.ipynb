{
 "cells": [
  {
   "cell_type": "markdown",
   "id": "89f33dd1",
   "metadata": {},
   "source": [
    "# **Samsung R&D**"
   ]
  },
  {
   "cell_type": "markdown",
   "id": "a973662d",
   "metadata": {},
   "source": []
  },
  {
   "cell_type": "code",
   "execution_count": null,
   "id": "631e1d3b",
   "metadata": {},
   "outputs": [],
   "source": []
  },
  {
   "cell_type": "code",
   "execution_count": 4,
   "id": "977f4d90",
   "metadata": {},
   "outputs": [
    {
     "name": "stdout",
     "output_type": "stream",
     "text": [
      "20\n"
     ]
    }
   ],
   "source": [
    "def calculate_total_distance(weights):\n",
    "    # Sort the weights\n",
    "    sorted_weights = sorted(weights)\n",
    "\n",
    "    # Identify positions of each weight in the original list\n",
    "    positions = [i for i, weight in enumerate(weights)]\n",
    "\n",
    "    # Plan the path and calculate total distance\n",
    "    total_distance = 0\n",
    "    for weight in sorted_weights:\n",
    "        position = positions[weights.index(weight)]\n",
    "        total_distance += position  # go to the position\n",
    "        total_distance += position  # return to position 0\n",
    "        weights[weights.index(weight)] = None  # mark as picked up\n",
    "\n",
    "    return total_distance\n",
    "\n",
    "# Example usage\n",
    "weights = [4, 2, 3, 2, 3]\n",
    "print(calculate_total_distance(weights))  # Output: 20\n"
   ]
  },
  {
   "cell_type": "code",
   "execution_count": null,
   "id": "06c21394",
   "metadata": {},
   "outputs": [],
   "source": []
  }
 ],
 "metadata": {
  "kernelspec": {
   "display_name": "interview",
   "language": "python",
   "name": "python3"
  },
  "language_info": {
   "codemirror_mode": {
    "name": "ipython",
    "version": 3
   },
   "file_extension": ".py",
   "mimetype": "text/x-python",
   "name": "python",
   "nbconvert_exporter": "python",
   "pygments_lexer": "ipython3",
   "version": "3.11.11"
  }
 },
 "nbformat": 4,
 "nbformat_minor": 5
}
