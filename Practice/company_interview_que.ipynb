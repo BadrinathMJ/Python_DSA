{
 "cells": [
  {
   "cell_type": "markdown",
   "id": "89f33dd1",
   "metadata": {},
   "source": [
    "# **Samsung R&D**"
   ]
  },
  {
   "cell_type": "markdown",
   "id": "a973662d",
   "metadata": {},
   "source": []
  },
  {
   "cell_type": "code",
   "execution_count": null,
   "id": "631e1d3b",
   "metadata": {},
   "outputs": [],
   "source": []
  },
  {
   "cell_type": "code",
   "execution_count": 7,
   "id": "977f4d90",
   "metadata": {},
   "outputs": [
    {
     "name": "stdout",
     "output_type": "stream",
     "text": [
      "20\n"
     ]
    }
   ],
   "source": [
    "def calculate_total_distance(weights):\n",
    "    # Sort the weights\n",
    "    sorted_weights = sorted(weights)\n",
    "\n",
    "    # Identify positions of each weight in the original list\n",
    "    positions = [i for i, weight in enumerate(weights)]\n",
    "\n",
    "    # Plan the path and calculate total distance\n",
    "    total_distance = 0\n",
    "    for weight in sorted_weights:\n",
    "        position = positions[weights.index(weight)]\n",
    "        total_distance += position  # go to the position\n",
    "        total_distance += position  # return to position 0\n",
    "        weights[weights.index(weight)] = None  # mark as picked up\n",
    "\n",
    "    return total_distance\n",
    "\n",
    "# Example usage\n",
    "weights = [4, 2, 3, 2, 3]\n",
    "print(calculate_total_distance(weights))  # Output: 20\n"
   ]
  },
  {
   "cell_type": "code",
   "execution_count": null,
   "id": "06c21394",
   "metadata": {},
   "outputs": [],
   "source": []
  },
  {
   "cell_type": "markdown",
   "id": "21d8e5d8",
   "metadata": {},
   "source": [
    "# **IBM**"
   ]
  },
  {
   "cell_type": "markdown",
   "id": "18190e49",
   "metadata": {},
   "source": [
    "\n",
    "Break The Bricks 🐡 [Link](\"https://www.fastprep.io/problems/stanley-break-the-bricks\")\n",
    "🤘 INTERN\n",
    "🏷️ OA\n",
    "📚\n",
    "RELATED PROBLEMS\n",
    "\n",
    "There are n bricks arranged in a row at positions numbered from 1 through n, inclusive. There is an array, newtons[n], that contains an integer indicating the number of newtons required to smash a brick. (A newton is a unit of force.)\n",
    "\n",
    "There are two hammers, one big and one small. The big hammer can smash any brick with one blow. The small hammer reduces the newtons required by 1 for each blow to a brick. For example, a brick requires 3 newtons of force. It will take 1 blow with the big hammer, or 3 blows with the small hammer to smash it. There is a limit to how many times the big hammer can be used.\n",
    "\n",
    "Determine 3 values:\n",
    "\n",
    "the minimum number of blows to smash all the bricks\n",
    "the 1-based indices of the bricks smashed by the big hammer, sorted ascending\n",
    "the 1-based indices of the bricks smashed by the small hammer, sorted ascending\n",
    "Return the values as a 2-dimensional integer array, [[total hits], [big hammer hits], [small hammer hits]]. If a hammer is not used, its index array should be [-1].\n",
    "Function Description\n",
    "\n",
    "Complete the function breakTheBricks in the editor below.\n",
    "\n",
    "breakTheBricks has the following parameters:\n",
    "\n",
    "int bigHits: the maximum blows with the big hammer\n",
    "int newtons[n]: an array of distinct integers representing newtons required to smash each brick\n",
    "Returns\n",
    "\n",
    "long[[1], [p][q]]: IN THE FORM [[total hits], [sorted indices for big hammer hits], [sorted indices for small hammer hits]]\n",
    "\n",
    "Example 1:\n",
    "\n",
    "Input:  bigHits = 0, newtons = [2]\n",
    "Output: [[2], [-1], [1]] \n",
    "Explanation:\n",
    "\n",
    "The big hammer cannot be used. The small hammer takes 2 blows to smash the single brick at index 1. The return array is [[2], [-1], [1]].\n",
    "\n",
    "      \n",
    "Example 2:\n",
    "\n",
    "Input:  bigHits = 4, newtons = [3, 2, 5, 4, 6, 7, 9]\n",
    "Output: [[13], [3, 5, 6, 7], [1, 2, 4]] \n",
    "Explanation:\n",
    "\n",
    "In this case, it is best to use the big hammer on bricks at sorted indices [3, 5, 6, 7] using 4 hits to smash them all. The small hammer is used on sorted indices [1, 2, 4] which have newtons of 3, 2, and 4. It takes a total of 3 + 2 + 4 = 9 hits with the small hammer. The total blows required = 4 + 9 = 13. The return array is [[13], [3, 5, 6, 7], [1, 2, 4]].\n",
    "  \n",
    "      \n",
    "Example 3:\n",
    "\n",
    "Input:  bigHits = 9, newtons = [7, 9, 3, 2, 5, 8, 4, 6]\n",
    "Output: [[8], [1, 2, 3, 4, 5, 6, 7, 8], [-1]] \n",
    "Explanation:\n",
    "\n",
    "There are enough bigHits available to smash all of the bricks with the large hammer. The returned array is [[8], [1, 2, 3, 4, 5, 6, 7, 8], [-1]].\n",
    "      \n",
    "Example 4:\n",
    "\n",
    "Input:  bigHits = 0, newtons = [10000000, 100000000, 1000000000]\n",
    "Output: [[1110000000], [-1], [1, 2, 3]] \n",
    "Explanation:\n",
    "\n",
    "Since bigHits = 0, the big hammer cannot be used. The total hits required is the sum of the newtons array, one hit with a small hammer for each newton. The returned arr is [[1110000000], [-1], [1, 2, 3]].\n",
    "      \n",
    "Constraints:\n",
    "1 ≤ n ≤ 2x105\n",
    "0 ≤ bigHits ≤ 2x105\n",
    "1 ≤ newtons[n] ≤ 109"
   ]
  },
  {
   "cell_type": "markdown",
   "id": "3c406dd0",
   "metadata": {},
   "source": [
    "# **Written Explanation of code is here**\n",
    "\n",
    "\"../explanations/IBM.pdf\"\n",
    "\n"
   ]
  },
  {
   "cell_type": "code",
   "execution_count": 8,
   "id": "161f7822",
   "metadata": {},
   "outputs": [
    {
     "name": "stdout",
     "output_type": "stream",
     "text": [
      "[[13], [3, 5, 6, 7], [1, 2, 4]]\n"
     ]
    }
   ],
   "source": [
    "\n",
    "\n",
    "def break_the_bricks(big_hits, newtons):\n",
    "    # Create a list of tuples containing the newtons and their original indices\n",
    "    #This is very important because at the last we need to get the indices in sorted order\n",
    "    indexed_newtons = [(force, index) for index, force in enumerate(newtons, start=1)]\n",
    "    #Here please keep in mind this is tuple\n",
    "\n",
    "    #Sort the list based on newtons in descending order\n",
    "    indexed_newtons.sort(reverse=True, key=lambda x:x[0])  # We are using lambda function to get the force as a first element of tuple for sorting the newtons in descending order\n",
    "\n",
    "    #Determine which brick to be hit by the big hammer\n",
    "    big_hammer_hits = [index for force, index in indexed_newtons[:big_hits]]  #Why we use the [:big_hits] because it takes first four bricks and return their indices\n",
    "\n",
    "    ##Remaining bricks hit by the small hammer, so determine their indices\n",
    "    small_hammer_hits = [index for force, index in indexed_newtons[big_hits:]]\n",
    "\n",
    "    #Calculate the total number of blows\n",
    "    total_blows = big_hits + sum(force for force , index in indexed_newtons[big_hits:])\n",
    "    #for big hammer = it's default hit is their because it takes only blow to smash the brick\n",
    "    #for small hammer = it takes whatever the newtons =  num of blows\n",
    "\n",
    "    #Now we need to find out the sorted indices  of both hammer blows in asceding order \n",
    "    big_hammer_indices = sorted(big_hammer_hits) if big_hammer_hits else [-1]  #If a hammer is not used, its index array should be [-1].\n",
    "\n",
    "    small_hammer_indices = sorted(small_hammer_hits) if small_hammer_hits else [-1] \n",
    "\n",
    "    #Return the final result\n",
    "    \n",
    "    return [[total_blows], big_hammer_indices, small_hammer_indices]\n",
    "\n",
    "# Example usage:\n",
    "big_hits = 4\n",
    "newtons = [3, 2, 5, 4, 6, 7, 9]\n",
    "result = break_the_bricks(big_hits, newtons)\n",
    "print(result)\n"
   ]
  },
  {
   "cell_type": "markdown",
   "id": "2be92c64",
   "metadata": {},
   "source": [
    "# Hurrey\n",
    "\n",
    "Given a custom-encoded string like \"3[a2[b]]\", \n",
    "\n",
    "decode it.\n",
    "\n",
    "Output: \"abbabbabb\""
   ]
  },
  {
   "cell_type": "code",
   "execution_count": 9,
   "id": "5a19a326",
   "metadata": {},
   "outputs": [
    {
     "name": "stdout",
     "output_type": "stream",
     "text": [
      "abbabbabb\n",
      "abbabbabb\n"
     ]
    }
   ],
   "source": [
    "class DecodeString:\n",
    "    def decode_string(self, s:str) ->str:\n",
    "        current_num = 0\n",
    "        stack = []\n",
    "        current_str = \"\"\n",
    "        #Iterate over the string characters\n",
    "        for char in s:\n",
    "            #First of all check char is number or not if it is number then store it into current_num\n",
    "            if char.isdigit():\n",
    "                current_num = current_num * 10 + int(char) #Here current_num = 3\n",
    "            #Elif check special characters, if there is special characters !@#$%^&*()_{}[] present in a loop then set current_num = 0 and current_str = \"\"\n",
    "            elif char == '[':\n",
    "                #Here append current_str and current_num in stack for popping out\n",
    "                stack.append((current_str, current_num))\n",
    "                current_num = 0\n",
    "                current_str = \"\"\n",
    "            elif char == ']':\n",
    "                prev_str, num = stack.pop()\n",
    "                current_str = prev_str + current_str*num\n",
    "            else:\n",
    "                #If char is char then add it to current_str so as to get the desired output\n",
    "                current_str += char\n",
    "\n",
    "        return current_str\n",
    "    #Stack solution\n",
    "    def decode_string_stack(self, s:str)->str:\n",
    "        stack = []   #It will append all elements before the last closing bracket\n",
    "        #Iterate over the characters of string\n",
    "        for i in range(len(s)):\n",
    "            \"\"\" \n",
    "            We are not going to append the closing bracket in the stack because it is necessary to decode the string and we will consider the characters present \n",
    "            before this closing bracket like this in list as follows\n",
    "            0\t1\t2\t3\t4\t5\n",
    "            \"3\"\t\"[\"\t\"a\"\t\"2\"\t\"[\"\t\"b\"\n",
    "            \"\"\"\n",
    "            if s[i] != \"]\":\n",
    "                stack.append(s[i]) \n",
    "            else:\n",
    "                #Initiate empty substring \n",
    "                sub_string = \"\"\n",
    "                \"\"\"  While loop will continue till last element of stach != '[' opening bracket and pop up the last element\"\"\"\n",
    "                while stack[-1] != \"[\":        \n",
    "                    sub_string = stack.pop() + sub_string  # And this substring will add pop up element b in the empty substring then it will become sub_string=\"b\"\n",
    "                stack.pop()  #Here it will pop up \"[\" opening bracket\n",
    "                #Initiated k = empty string for numerical characters present in the string\n",
    "                k = \"\"\n",
    "                \"While loop will continue till last element of the stack is digit. If it is digit then it will pop up from stack and save it to k=2\"\n",
    "                while stack and stack[-1].isdigit():\n",
    "                    k = stack.pop() + k  #k = 2\n",
    "                stack.append(int(k) * sub_string)  #Then value of k will multiply to the substring = b and then it will become=\"bb\" and again appended in stack for getting the desired decoded string\n",
    "\n",
    "        return \"\".join(stack)   #Join all elements of stack and form a decoded string\n",
    "\n",
    "\n",
    "# Example usage\n",
    "decode = DecodeString()\n",
    "encoded_string = \"3[a2[b]]\"\n",
    "decoded_string = decode.decode_string(encoded_string)\n",
    "decoded_str_stack = decode.decode_string_stack(encoded_string)\n",
    "print(decoded_string)  # Output: \"abbabbabb\"\n",
    "print(decoded_str_stack)\n"
   ]
  },
  {
   "cell_type": "markdown",
   "id": "387700b7",
   "metadata": {},
   "source": [
    "# Given a list and window size k, return max in every sliding window\n",
    "\n",
    "Input: nums = [1,3,-1,-3,5,3,6,7], k = 3\n",
    "Output: [3,3,5,5,6,7]"
   ]
  },
  {
   "cell_type": "code",
   "execution_count": 10,
   "id": "82ad9c59",
   "metadata": {},
   "outputs": [
    {
     "name": "stdout",
     "output_type": "stream",
     "text": [
      "[3]\n"
     ]
    }
   ],
   "source": [
    "def max_element(list_of_elements,k):\n",
    "    for i in range(0,k):\n",
    "        max_elements = []\n",
    "        if list_of_elements[i+1] >list_of_elements[i]:\n",
    "            max_elements.append(list_of_elements[i+1])\n",
    "            return max_elements\n",
    "        else:\n",
    "            return -1\n",
    "list_of_elems = [1,3,-1,-3,5,3,6,7]\n",
    "max_elements = max_element(list_of_elems, 3)\n",
    "print(max_elements)\n",
    "\n",
    "#Note:Wrong solution"
   ]
  },
  {
   "cell_type": "code",
   "execution_count": 11,
   "id": "cdf39350",
   "metadata": {},
   "outputs": [
    {
     "name": "stdout",
     "output_type": "stream",
     "text": [
      "[3, 3, 5, 5, 6, 7]\n"
     ]
    }
   ],
   "source": [
    "from typing import List\n",
    "from collections import deque\n",
    "\n",
    "\"\"\"Here we are using deque to solve this problem\n",
    "What is deque-A deque stands for Double-Ended Queue. It is a data structure that allows adding and removing elements from both ends efficiently.\n",
    "Unlike regular queues, which are typically operated on using FIFO (First In, First Out) principles, a deque supports both FIFO and LIFO (Last In, First Out) operations.\n",
    "Data Structure of deque = deque([])\n",
    "\"\"\"\n",
    "\n",
    "class SlidingMaxElement:\n",
    "    def max_slidingwindow(self, nums:List[int], k:int)-> List:\n",
    "        res = []\n",
    "        q = deque()\n",
    "        #iterate over the list of elements using enumerate function\n",
    "        for idx, num in enumerate(nums):\n",
    "            \"\"\"\n",
    "            We remove elements from the back of the deque as long as the current element num is greater than the elements in the deque. \n",
    "            This maintains the deque in a descending order of values.We append the current element num to the deque.\n",
    "            \"\"\"\n",
    "            while q and q[-1] < num: #Now at first iteration deque = deque([])\n",
    "                q.pop() #So we can not pop the element\n",
    "            q.append(num) #So that first element so deque = deque([1])\n",
    "\n",
    "            \"\"\" \n",
    "            Now apply the logic over here for getting the output\n",
    "            Now in deque = deque([1]) and we have idx = 0 which is greater than k=3 and nums[idx - 1] = [0-1] = nums[-1] = 1 because we are having only one element\n",
    "            q = deque([1]) = so it becomes = q[0]\n",
    "            if both these conditions match then we would remove it by using popleft()\n",
    "            If the index idx is greater than or equal to k (indicating that the window has moved forward):\n",
    "            \"\"\"\n",
    "            if idx >= k and nums[idx - 1] == q[0]: #both conditions has not been satisfied \n",
    "                q.popleft() \n",
    "            \"\"\" \n",
    "            Now actually see for result \n",
    "            If idx = 0 greater than k-1 = 3-1=2. here condition does not satisfied so we can not append 1 in the res\n",
    "            \"\"\"\n",
    "            if idx > k - 1:\n",
    "                res.append(q[0])\n",
    "\n",
    "    def max_sliding_window_left(self, nums:List[int], k:int)-> List:\n",
    "        #Initiate the list to store the results\n",
    "        res = []\n",
    "        window = deque() #This is the window where we are going to pop up and append the indices of the list\n",
    "\n",
    "        #Iterate over the list of nums\n",
    "        for i, num in enumerate(nums):\n",
    "            \"\"\" \n",
    "            This while loop is for maintaining the k size i.e.=3. So that we are using this formula window[0] < i - k + 1. Means 0th element of deque is less than\n",
    "            i - k + 1 then we have to eleminate 0th index from left side from deque window\n",
    "            \n",
    "            \"\"\"\n",
    "            while window and window[0] < i - k + 1:\n",
    "                window.popleft()\n",
    "            \"\"\" \n",
    "            This while loop is for if the last element is less than the current_num, suppose in second iteration last element in window = 1 < current_num = 3\n",
    "            Then we pop the index from window.\n",
    "            \"\"\"\n",
    "            while window and nums[window[-1]] < num:\n",
    "                window.pop()\n",
    "\n",
    "            window.append(i)\n",
    "            #And this is for getting the max element from window\n",
    "            if i >= k - 1:\n",
    "                res.append(nums[window[0]])\n",
    "        return res\n",
    "\n",
    "slide_max= SlidingMaxElement()\n",
    "max_int = slide_max.max_sliding_window_left([1,3,-1,-3,5,3,6,7], 3)\n",
    "print(max_int)"
   ]
  },
  {
   "cell_type": "markdown",
   "id": "08254191",
   "metadata": {},
   "source": [
    "# IBM LeetCode Question\n",
    " https://leetcode.com/problems/exclusive-time-of-functions/description/\n",
    "\n",
    "On a single-threaded CPU, we execute a program containing n functions. Each function has a unique ID between 0 and n-1.\n",
    "\n",
    "Function calls are stored in a call stack: when a function call starts, its ID is pushed onto the stack, and when a function call ends, its ID is popped off the stack. The function whose ID is at the top of the stack is the current function being executed. Each time a function starts or ends, we write a log with the ID, whether it started or ended, and the timestamp.\n",
    "\n",
    "You are given a list logs, where logs[i] represents the ith log message formatted as a string \"{function_id}:{\"start\" | \"end\"}:{timestamp}\". For example, \"0:start:3\" means a function call with function ID 0 started at the beginning of timestamp 3, and \"1:end:2\" means a function call with function ID 1 ended at the end of timestamp 2. Note that a function can be called multiple times, possibly recursively.\n",
    "\n",
    "A function's exclusive time is the sum of execution times for all function calls in the program. For example, if a function is called twice, one call executing for 2 time units and another call executing for 1 time unit, the exclusive time is 2 + 1 = 3.\n",
    "\n",
    "Return the exclusive time of each function in an array, where the value at the ith index represents the exclusive time for the function with ID i."
   ]
  },
  {
   "cell_type": "markdown",
   "id": "9a2767a9",
   "metadata": {},
   "source": [
    "Input: n = 2, logs = [\"0:start:0\",\"1:start:2\",\"1:end:5\",\"0:end:6\"]\n",
    "Output: [3,4]\n",
    "\n",
    "Explanation:\n",
    "Function 0 starts at the beginning of time 0, then it executes 2 for units of time and reaches the end of time 1.\n",
    "\n",
    "Function 1 starts at the beginning of time 2, executes for 4 units of time, and ends at the end of time 5.\n",
    "\n",
    "Function 0 resumes execution at the beginning of time 6 and executes for 1 unit of time.\n",
    "\n",
    "So function 0 spends 2 + 1 = 3 units of total time executing, and function 1 spends 4 units of total time executing."
   ]
  },
  {
   "cell_type": "markdown",
   "id": "054d2acb",
   "metadata": {},
   "source": []
  },
  {
   "cell_type": "code",
   "execution_count": 17,
   "id": "faa53297",
   "metadata": {},
   "outputs": [
    {
     "name": "stdout",
     "output_type": "stream",
     "text": [
      "[3, 4]\n",
      "[3, 4]\n"
     ]
    }
   ],
   "source": [
    "class GPUTraining:\n",
    "    def exclusiveTime(self, n:int, logs:List[str])->List[str]:\n",
    "        #Initiate the list which has value zero so that we can update the changes in it by appending the updated elements\n",
    "        total = [0] *n\n",
    "        call_stack = [] #This is the stack for poping up the element from list\n",
    "        #We need to keep the track of the time when previous model training started because we can use that the diff between when it ends and starts\n",
    "        #set the counter for model and time\n",
    "        i = 0\n",
    "        curr_time = 0\n",
    "        while (i < len(logs)):\n",
    "            #Split the log on the basis of \":\"\n",
    "            cur_log = logs[i].split(\":\")\n",
    "            cur_model_id = int(cur_log[0]) #This is model id = 0 like from \"0:start:0\"\n",
    "            status = cur_log[1]   #This is status start or end = start like from \"0:start:0\"\n",
    "            next_time = int(cur_log[2]) #This is time  = 0 like from \"0:start:0\"\n",
    "            if (status == \"start\"):\n",
    "                if (call_stack):\n",
    "                    #here we are considering the last element of the list that has to be added into total by subtracting nexttime and current time\n",
    "                    total[call_stack[-1]] += next_time - curr_time \n",
    "                call_stack.append(cur_model_id)\n",
    "                curr_time = next_time\n",
    "            else:\n",
    "                #This is for if status = end so that we can \n",
    "                total[call_stack[-1]] += next_time -curr_time + 1\n",
    "                call_stack.pop()\n",
    "                curr_time = next_time + 1\n",
    "            i += 1\n",
    "\n",
    "        return total\n",
    "    def exclusiveTime_diff_approach(self, n:int, logs:List[str])->List[str]:\n",
    "        execution_times = [0] *n\n",
    "        call_stack = []#This is the stack for poping up the element from list\n",
    "        #We need to keep the track of the time when previous model training started because we can use that the diff between when it ends and starts\n",
    "        #set the counter for model and time\n",
    "        previous_start_time = 0\n",
    "\n",
    "        #Iterate over the logs\n",
    "        for log in logs:\n",
    "            model_id, status, timestamp = log.split(\":\")\n",
    "            #We will convert str into int for calculations\n",
    "            model_id = int(model_id)\n",
    "            timestamp = int(timestamp)\n",
    "\n",
    "            if status == \"start\":\n",
    "                if call_stack:    #Why this is if in stack something running before then we need to update amount of time that thing was running\n",
    "                    execution_times[call_stack[-1]] += timestamp -previous_start_time\n",
    "                call_stack.append(model_id)\n",
    "                #After started running current model_id we will update the previous_start_time wit current timestamp\n",
    "                previous_start_time = timestamp\n",
    "            else:\n",
    "                execution_times[call_stack.pop()] += timestamp - previous_start_time + 1 #Why we are adding the 1 here because we are including endpoint also\n",
    "                #Whatever next in the call stack can now begin and it's actually begin at timestamp+1\n",
    "                previous_start_time = timestamp + 1\n",
    "\n",
    "        return execution_times\n",
    "\n",
    "gpu_training = GPUTraining()\n",
    "n = 2\n",
    "logs = [\"0:start:0\",\"1:start:2\",\"1:end:5\",\"0:end:6\"]\n",
    "time_spent = gpu_training.exclusiveTime(n, logs)\n",
    "print(time_spent)\n",
    "time_spent_another_app = gpu_training.exclusiveTime_diff_approach(n, logs)\n",
    "print(time_spent_another_app)\n",
    "\n",
    "\n",
    "\n",
    "\n",
    "\n"
   ]
  },
  {
   "cell_type": "code",
   "execution_count": 18,
   "id": "2fcd8124",
   "metadata": {},
   "outputs": [
    {
     "data": {
      "text/plain": [
       "6"
      ]
     },
     "execution_count": 18,
     "metadata": {},
     "output_type": "execute_result"
    }
   ],
   "source": [
    "call_stack = [0,6]\n",
    "call_stack.pop()"
   ]
  },
  {
   "cell_type": "code",
   "execution_count": null,
   "id": "ea1c7faa",
   "metadata": {},
   "outputs": [],
   "source": []
  }
 ],
 "metadata": {
  "kernelspec": {
   "display_name": "interview",
   "language": "python",
   "name": "python3"
  },
  "language_info": {
   "codemirror_mode": {
    "name": "ipython",
    "version": 3
   },
   "file_extension": ".py",
   "mimetype": "text/x-python",
   "name": "python",
   "nbconvert_exporter": "python",
   "pygments_lexer": "ipython3",
   "version": "3.11.11"
  }
 },
 "nbformat": 4,
 "nbformat_minor": 5
}
