{
 "cells": [
  {
   "cell_type": "markdown",
   "id": "89f33dd1",
   "metadata": {},
   "source": [
    "# **Samsung R&D**"
   ]
  },
  {
   "cell_type": "markdown",
   "id": "a973662d",
   "metadata": {},
   "source": []
  },
  {
   "cell_type": "code",
   "execution_count": null,
   "id": "631e1d3b",
   "metadata": {},
   "outputs": [],
   "source": []
  },
  {
   "cell_type": "code",
   "execution_count": 4,
   "id": "977f4d90",
   "metadata": {},
   "outputs": [
    {
     "name": "stdout",
     "output_type": "stream",
     "text": [
      "20\n"
     ]
    }
   ],
   "source": [
    "def calculate_total_distance(weights):\n",
    "    # Sort the weights\n",
    "    sorted_weights = sorted(weights)\n",
    "\n",
    "    # Identify positions of each weight in the original list\n",
    "    positions = [i for i, weight in enumerate(weights)]\n",
    "\n",
    "    # Plan the path and calculate total distance\n",
    "    total_distance = 0\n",
    "    for weight in sorted_weights:\n",
    "        position = positions[weights.index(weight)]\n",
    "        total_distance += position  # go to the position\n",
    "        total_distance += position  # return to position 0\n",
    "        weights[weights.index(weight)] = None  # mark as picked up\n",
    "\n",
    "    return total_distance\n",
    "\n",
    "# Example usage\n",
    "weights = [4, 2, 3, 2, 3]\n",
    "print(calculate_total_distance(weights))  # Output: 20\n"
   ]
  },
  {
   "cell_type": "code",
   "execution_count": null,
   "id": "06c21394",
   "metadata": {},
   "outputs": [],
   "source": []
  },
  {
   "cell_type": "markdown",
   "id": "21d8e5d8",
   "metadata": {},
   "source": [
    "# **IBM**"
   ]
  },
  {
   "cell_type": "markdown",
   "id": "18190e49",
   "metadata": {},
   "source": [
    "\n",
    "Break The Bricks 🐡 [Link](\"https://www.fastprep.io/problems/stanley-break-the-bricks\")\n",
    "🤘 INTERN\n",
    "🏷️ OA\n",
    "📚\n",
    "RELATED PROBLEMS\n",
    "\n",
    "There are n bricks arranged in a row at positions numbered from 1 through n, inclusive. There is an array, newtons[n], that contains an integer indicating the number of newtons required to smash a brick. (A newton is a unit of force.)\n",
    "\n",
    "There are two hammers, one big and one small. The big hammer can smash any brick with one blow. The small hammer reduces the newtons required by 1 for each blow to a brick. For example, a brick requires 3 newtons of force. It will take 1 blow with the big hammer, or 3 blows with the small hammer to smash it. There is a limit to how many times the big hammer can be used.\n",
    "\n",
    "Determine 3 values:\n",
    "\n",
    "the minimum number of blows to smash all the bricks\n",
    "the 1-based indices of the bricks smashed by the big hammer, sorted ascending\n",
    "the 1-based indices of the bricks smashed by the small hammer, sorted ascending\n",
    "Return the values as a 2-dimensional integer array, [[total hits], [big hammer hits], [small hammer hits]]. If a hammer is not used, its index array should be [-1].\n",
    "Function Description\n",
    "\n",
    "Complete the function breakTheBricks in the editor below.\n",
    "\n",
    "breakTheBricks has the following parameters:\n",
    "\n",
    "int bigHits: the maximum blows with the big hammer\n",
    "int newtons[n]: an array of distinct integers representing newtons required to smash each brick\n",
    "Returns\n",
    "\n",
    "long[[1], [p][q]]: IN THE FORM [[total hits], [sorted indices for big hammer hits], [sorted indices for small hammer hits]]\n",
    "\n",
    "Example 1:\n",
    "\n",
    "Input:  bigHits = 0, newtons = [2]\n",
    "Output: [[2], [-1], [1]] \n",
    "Explanation:\n",
    "\n",
    "The big hammer cannot be used. The small hammer takes 2 blows to smash the single brick at index 1. The return array is [[2], [-1], [1]].\n",
    "\n",
    "      \n",
    "Example 2:\n",
    "\n",
    "Input:  bigHits = 4, newtons = [3, 2, 5, 4, 6, 7, 9]\n",
    "Output: [[13], [3, 5, 6, 7], [1, 2, 4]] \n",
    "Explanation:\n",
    "\n",
    "In this case, it is best to use the big hammer on bricks at sorted indices [3, 5, 6, 7] using 4 hits to smash them all. The small hammer is used on sorted indices [1, 2, 4] which have newtons of 3, 2, and 4. It takes a total of 3 + 2 + 4 = 9 hits with the small hammer. The total blows required = 4 + 9 = 13. The return array is [[13], [3, 5, 6, 7], [1, 2, 4]].\n",
    "  \n",
    "      \n",
    "Example 3:\n",
    "\n",
    "Input:  bigHits = 9, newtons = [7, 9, 3, 2, 5, 8, 4, 6]\n",
    "Output: [[8], [1, 2, 3, 4, 5, 6, 7, 8], [-1]] \n",
    "Explanation:\n",
    "\n",
    "There are enough bigHits available to smash all of the bricks with the large hammer. The returned array is [[8], [1, 2, 3, 4, 5, 6, 7, 8], [-1]].\n",
    "      \n",
    "Example 4:\n",
    "\n",
    "Input:  bigHits = 0, newtons = [10000000, 100000000, 1000000000]\n",
    "Output: [[1110000000], [-1], [1, 2, 3]] \n",
    "Explanation:\n",
    "\n",
    "Since bigHits = 0, the big hammer cannot be used. The total hits required is the sum of the newtons array, one hit with a small hammer for each newton. The returned arr is [[1110000000], [-1], [1, 2, 3]].\n",
    "      \n",
    "Constraints:\n",
    "1 ≤ n ≤ 2x105\n",
    "0 ≤ bigHits ≤ 2x105\n",
    "1 ≤ newtons[n] ≤ 109"
   ]
  },
  {
   "cell_type": "code",
   "execution_count": 4,
   "id": "161f7822",
   "metadata": {},
   "outputs": [
    {
     "name": "stdout",
     "output_type": "stream",
     "text": [
      "[[13], [3, 5, 6, 7], [1, 2, 4]]\n"
     ]
    }
   ],
   "source": [
    "def break_the_bricks(big_hits, newtons):\n",
    "    # Create a list of tuples containing the newtons and their original indices\n",
    "    #This is very important because at the last we need to get the indices in sorted order\n",
    "    indexed_newtons = [(force, index) for index, force in enumerate(newtons, start=1)]\n",
    "    #Here please keep in mind this is tuple\n",
    "\n",
    "    #Sort the list based on newtons in descending order\n",
    "    indexed_newtons.sort(reverse=True, key=lambda x:x[0])  # We are using lambda function to get the force as a first element of tuple for sorting the newtons in descending order\n",
    "\n",
    "    #Determine which brick to be hit by the big hammer\n",
    "    big_hammer_hits = [index for force, index in indexed_newtons[:big_hits]]  #Why we use the [:big_hits] because it takes first four bricks and return their indices\n",
    "\n",
    "    ##Remaining bricks hit by the small hammer, so determine their indices\n",
    "    small_hammer_hits = [index for force, index in indexed_newtons[big_hits:]]\n",
    "\n",
    "    #Calculate the total number of blows\n",
    "    total_blows = big_hits + sum(force for force , index in indexed_newtons[big_hits:])\n",
    "    #for big hammer = it's default hit is their because it takes only blow to smash the brick\n",
    "    #for small hammer = it takes whatever the newtons =  num of blows\n",
    "\n",
    "    #Now we need to find out the sorted indices  of both hammer blows in asceding order \n",
    "    big_hammer_indices = sorted(big_hammer_hits) if big_hammer_hits else [-1]  #If a hammer is not used, its index array should be [-1].\n",
    "\n",
    "    small_hammer_indices = sorted(small_hammer_hits) if small_hammer_hits else [-1] \n",
    "\n",
    "    #Return the final result\n",
    "    \n",
    "    return [[total_blows], big_hammer_indices, small_hammer_indices]\n",
    "\n",
    "# Example usage:\n",
    "big_hits = 4\n",
    "newtons = [3, 2, 5, 4, 6, 7, 9]\n",
    "result = break_the_bricks(big_hits, newtons)\n",
    "print(result)\n"
   ]
  },
  {
   "cell_type": "markdown",
   "id": "2be92c64",
   "metadata": {},
   "source": []
  }
 ],
 "metadata": {
  "kernelspec": {
   "display_name": "interview",
   "language": "python",
   "name": "python3"
  },
  "language_info": {
   "codemirror_mode": {
    "name": "ipython",
    "version": 3
   },
   "file_extension": ".py",
   "mimetype": "text/x-python",
   "name": "python",
   "nbconvert_exporter": "python",
   "pygments_lexer": "ipython3",
   "version": "3.11.11"
  }
 },
 "nbformat": 4,
 "nbformat_minor": 5
}
