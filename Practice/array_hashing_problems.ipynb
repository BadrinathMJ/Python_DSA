{
 "cells": [
  {
   "cell_type": "markdown",
   "id": "266be22f",
   "metadata": {},
   "source": [
    "# **Contains Duplicates**\n",
    "\n",
    "Example: if array = [1,2,3,1]\n",
    "\n",
    "We need to return True if duplicate element is present otherwise False"
   ]
  },
  {
   "cell_type": "code",
   "execution_count": null,
   "id": "9149e10d",
   "metadata": {},
   "outputs": [
    {
     "name": "stdout",
     "output_type": "stream",
     "text": [
      "False\n",
      "False\n",
      "False\n"
     ]
    }
   ],
   "source": [
    "from typing import List\n",
    "\n",
    "class Duplicates:\n",
    "    #Brute Force Approach\n",
    "    #Time and Space complexity\n",
    "    # O(n2) and O(1)\n",
    "    def comntainDuplicates(self, nums: List[int]) -> bool:\n",
    "        #Iterate over the list of elements\n",
    "        for i in range(len(nums)):\n",
    "            #Iterate from next element = i+1 present in list and considered as j - here we are utilizing row and column pattern i = row and j = column\n",
    "            for j in range(i+1, len(nums)):\n",
    "                #Check the condition whether next element is equals or not\n",
    "\n",
    "                if nums[i] == nums[j]:\n",
    "                    return True\n",
    "        return False  #Here we returning False if none of the duplicate elements are present in the array\n",
    "    \n",
    "    #Sorting Approach\n",
    "    #Time and Space complexity\n",
    "    # O(nlogn) and O(n)\n",
    "    def has_duplicates(self, nums:List[int]) -> bool:\n",
    "        #First sort the list\n",
    "        nums.sort()\n",
    "        #Iterate over the list of numbers\n",
    "        for i in range(len(nums)):\n",
    "            #Check if the condition\n",
    "            if nums[i] == nums[i - 1]:\n",
    "                return True\n",
    "            return False\n",
    "    #Hash set Approach\n",
    "    #Time and Space complexity\n",
    "    # O(n) and O(n)\n",
    "    def hasDuplicates(self, nums:List[int]) -> bool:\n",
    "        #We would initiate set to store seen elements \n",
    "        seen = set() #This would be empty set before starting loop\n",
    "        #Iterate over the list of numbers\n",
    "        for num in nums:\n",
    "            #Check if the num is present in the list\n",
    "            if num in seen:\n",
    "                return True\n",
    "            seen.add(num)\n",
    "        return False\n",
    "            \n",
    "\n",
    "sol  = Duplicates()\n",
    "arr = [1,2,3,4]\n",
    "duplicates = sol.comntainDuplicates(arr)\n",
    "sorting_app = sol.has_duplicates(arr)\n",
    "hash_approach = sol.hasDuplicates(arr)\n",
    "print(sorting_app)\n",
    "print(duplicates)\n",
    "print(hash_approach)\n",
    "\n",
    "#Time and Space complexity\n",
    "# O(n2) and O(1)"
   ]
  },
  {
   "cell_type": "code",
   "execution_count": null,
   "id": "2c1b762c",
   "metadata": {},
   "outputs": [],
   "source": []
  }
 ],
 "metadata": {
  "kernelspec": {
   "display_name": "interview",
   "language": "python",
   "name": "python3"
  },
  "language_info": {
   "codemirror_mode": {
    "name": "ipython",
    "version": 3
   },
   "file_extension": ".py",
   "mimetype": "text/x-python",
   "name": "python",
   "nbconvert_exporter": "python",
   "pygments_lexer": "ipython3",
   "version": "3.11.11"
  }
 },
 "nbformat": 4,
 "nbformat_minor": 5
}
