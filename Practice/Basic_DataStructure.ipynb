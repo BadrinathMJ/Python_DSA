{
 "cells": [
  {
   "cell_type": "markdown",
   "id": "1bda7ddf",
   "metadata": {},
   "source": [
    "# **Queues**"
   ]
  },
  {
   "cell_type": "markdown",
   "id": "7e399fd0",
   "metadata": {},
   "source": [
    "Another data structure that overlaps with arrays is a Queue. They are also similar to stacks, except they follow a FIFO approach (First in First Out).\n",
    "\n",
    "A real world example would be a line at the bank. The first person added to the line (queue) is the first person to be served."
   ]
  },
  {
   "cell_type": "markdown",
   "id": "84cd816d",
   "metadata": {},
   "source": [
    "# **Implementation and Operations**\n",
    "\n",
    "The easiest way to implement a queue is using a linked list.\n",
    "\n",
    "It is also possible to implement a queue using a dynamic array, but is more involved. To get the same time complexity as a linked list, you would need to use a circular array and perform some additional operations.\n",
    "The main two operations that queues support are enqueue and dequeue."
   ]
  },
  {
   "cell_type": "code",
   "execution_count": 1,
   "id": "e1a6224d",
   "metadata": {},
   "outputs": [],
   "source": [
    "class ListNode:\n",
    "    def __init__(self, val):\n",
    "        self.val = val \n",
    "        self.next = None\n",
    "        self.prev = None\n",
    "\n",
    "\n",
    "def enqueue(self, val):\n",
    "    newNode = ListNode(val)\n",
    "    #Queue is non empty\n",
    "    if self.right:\n",
    "        self.right.next = newNode\n",
    "        self.right = self.right.next\n",
    "    #Queue is empty\n",
    "    else:\n",
    "        self.left = self.right = newNode\n"
   ]
  },
  {
   "cell_type": "markdown",
   "id": "2160271b",
   "metadata": {},
   "source": [
    " \t\n",
    "# **Recursion (One Branch)**\n",
    "\n",
    "Recursion can be a difficult concept to wrap your head around so don't be discouraged if you don't understand it right away.\n",
    "\n",
    "Simply put, recursion is when a function calls itself, usually with a different input. This is known as a recursive function.\n",
    "\n",
    "Recursive functions can be thought of as functions that breaks down a problem into smaller sub-problems and solves them in reverse order. It's usually possible to convert a recursive function into an iterative one, and vice versa.\n",
    "\n",
    "For some problems an iterative solution can be much more simple to implement than a recursive one, and vice versa.\n",
    "Recursive functions have two parts:\n",
    "\n",
    "The base case.\n",
    "The recursive case.\n",
    "The concept of recursion applies to the real world as well. Consider a box that contains another box, which contains another box, and so on. This is a recursive structure.\n",
    "\n",
    "In this case, the base case would be the smallest box, and the recursive case would be the larger boxes that contain the smaller boxes.\n",
    "\n"
   ]
  },
  {
   "cell_type": "markdown",
   "id": "88496edc",
   "metadata": {},
   "source": []
  },
  {
   "cell_type": "code",
   "execution_count": 2,
   "id": "f83b294f",
   "metadata": {},
   "outputs": [
    {
     "data": {
      "text/plain": [
       "120"
      ]
     },
     "execution_count": 2,
     "metadata": {},
     "output_type": "execute_result"
    }
   ],
   "source": [
    "#Recusive function implementation of n!\n",
    "def factorial(n):\n",
    "    #Base case n=0 or n=1\n",
    "    if n <= 1:\n",
    "        return 1\n",
    "    #Recursive case n! = n*(n-1)!\n",
    "    return n * factorial(n-1)\n",
    "\n",
    "fact = factorial(5)\n",
    "fact"
   ]
  },
  {
   "cell_type": "code",
   "execution_count": null,
   "id": "5bbeccfb",
   "metadata": {},
   "outputs": [],
   "source": []
  },
  {
   "cell_type": "markdown",
   "id": "ef23c0a3",
   "metadata": {},
   "source": [
    "# **ReverseLinkedList**"
   ]
  },
  {
   "cell_type": "code",
   "execution_count": 4,
   "id": "023f5dd1",
   "metadata": {},
   "outputs": [
    {
     "name": "stdout",
     "output_type": "stream",
     "text": [
      "Original Linked List:\n",
      "1 -> 2 -> 3 -> 4 -> None\n",
      "Reversed Linked List:\n",
      "4 -> 3 -> 2 -> 1 -> None\n"
     ]
    }
   ],
   "source": [
    "#Definition for Singly Linked List\n",
    "class Node:\n",
    "    def __init__(self, data):\n",
    "        self.data = data\n",
    "        self.next = None\n",
    "\n",
    "class LinkedList:\n",
    "    def __init__(self):\n",
    "        self.head = None\n",
    "    \n",
    "    def append(self, data):\n",
    "        new_node = Node(data)\n",
    "        if self.head is None:\n",
    "            self.head = new_node\n",
    "            return\n",
    "        last_node = self.head\n",
    "        while last_node.next:\n",
    "            last_node = last_node.next\n",
    "        last_node.next = new_node\n",
    "    \n",
    "    def print_list(self):\n",
    "        current_node = self.head\n",
    "        while current_node:\n",
    "            print(current_node.data, end=\" -> \")\n",
    "            current_node = current_node.next\n",
    "        print(\"None\")\n",
    "\n",
    "    def reverselist(self):\n",
    "        prev_node = None\n",
    "        current_node = self.head\n",
    "        while current_node:\n",
    "            \"\"\"#Store the next node of current_node(suppose we have consider [1,2,3,4]. Current node = 1 and next_node = current.next = 2)\"\"\"\n",
    "            next_node = current_node.next  \n",
    "            \"\"\"Reverse the current node's pointer- Means current_node.next == 2 will become prev_node = 1.\n",
    "            We can say that current_node = prev_node = 1 and current_node.next = next_node = 2\n",
    "            \"\"\"\n",
    "            current_node.next = prev_node\n",
    "            \"\"\"Store the value of current_node into prev_node. SO prev_node will become = 1, this is the process moving pointer one position ahead\"\"\"\n",
    "            prev_node = current_node\n",
    "            \"\"\"Now current_node becomes next node for further iteration means current_node = 2 that is used for next iteration\"\"\"\n",
    "            current_node = next_node\n",
    "\n",
    "        \"\"\"Then update the the head of new first head- Means all reveresed values will updated in prev_node here\"\"\"\n",
    "        self.head = prev_node\n",
    "\n",
    "# Example usage\n",
    "llist = LinkedList()\n",
    "llist.append(1)\n",
    "llist.append(2)\n",
    "llist.append(3)\n",
    "llist.append(4)\n",
    "\n",
    "print(\"Original Linked List:\")\n",
    "llist.print_list()\n",
    "\n",
    "llist.reverselist()\n",
    "\n",
    "print(\"Reversed Linked List:\")\n",
    "llist.print_list()\n",
    "\n",
    "\n",
    "            \n",
    "\n"
   ]
  },
  {
   "cell_type": "markdown",
   "id": "7a6b8ba1",
   "metadata": {},
   "source": [
    "# **Recursion (Two Branch)**"
   ]
  },
  {
   "cell_type": "markdown",
   "id": "265d4580",
   "metadata": {},
   "source": [
    "Fibnacci Series is one of the best example of recursion with two branch approach\n",
    "\n",
    "The Fibonacci sequence is a set of numbers that starts with \n",
    "0 and 1 and each subsequent number is sum of the two preceding numbers\n",
    "\n",
    "0+1 = 1\n",
    "\n",
    "1+1 = 2\n",
    "\n",
    "1+2 = 3\n",
    "\n",
    "2+3 = 5\n",
    "\n",
    "3+5 = 8\n",
    "\n",
    "and so on.....\n",
    "\n",
    "So formula for this as follows\n",
    "\n",
    "Fibonacci Number = F(n) = F(n-1) + F(n-2)\n",
    "               \n",
    "                F(0) = 0, F(1) = 1\n",
    "\n",
    "                F(2) = F(1) + F(0)\n",
    "\n",
    "                =1+0 = 1"
   ]
  },
  {
   "cell_type": "code",
   "execution_count": 6,
   "id": "ead2772b",
   "metadata": {},
   "outputs": [
    {
     "data": {
      "text/plain": [
       "3"
      ]
     },
     "execution_count": 6,
     "metadata": {},
     "output_type": "execute_result"
    }
   ],
   "source": [
    "#Recursive implementation in Fibonacci Series\n",
    "def fibonacci(n):\n",
    "    #Base number = n=0 and n=1\n",
    "    if n <= 1:\n",
    "        return n\n",
    "    \n",
    "    #Recursive Case: f(n) = f(n-1) + f(n-2)\n",
    "    return fibonacci(n-1) + fibonacci(n-2)\n",
    "\n",
    "fibonacci(4)"
   ]
  },
  {
   "cell_type": "markdown",
   "id": "3478e8bf",
   "metadata": {},
   "source": [
    "# **Climbing Chair Problem**\n",
    "\n",
    "You are given an integer n representing the number of steps to reach the top of a staircase. You can climb with either 1 or 2 steps at a time.\n",
    "\n",
    "Return the number of distinct ways to climb to the top of the staircase."
   ]
  },
  {
   "cell_type": "code",
   "execution_count": null,
   "id": "f964dca9",
   "metadata": {},
   "outputs": [
    {
     "name": "stdout",
     "output_type": "stream",
     "text": [
      "13\n"
     ]
    }
   ],
   "source": [
    "class Solution:\n",
    "    def climbStairs(self, n:int)-> int:\n",
    "        \"\"\"At the initial phase we need to consider last and second last stair as 1 and 1 because we are going to solve this problem in reverse way\n",
    "        If you stand on last stair there is only one way to jump on itself last stair otherwise one will collapse if he will start climbing because it does not have next chair\n",
    "        Similarly one can climb by only one stair when he stood at second last chair, if he could try to jump by two steps , then obviously he will collapse.\n",
    "        So that we have initiated the problem by setting last two stairs = 1 and 1\n",
    "        \"\"\"\n",
    "        one ,two = 1, 1\n",
    "        #one = last_step  and two = prev_Step\n",
    "        #Iterate through number of stairs that are given \n",
    "        for i in range(n - 1):\n",
    "            \"\"\"Suppose here we have considered last step(Desired step that to be reached) temp and initiated with temp because it is going to change its number\"\"\"\n",
    "            \n",
    "            temp = one\n",
    "            #Now we add previous step into last step because we need to find out the number of ways to climb the desired number of step\n",
    "            one = one + two\n",
    "            #Now store the updated step in the two as temp \n",
    "            two  = temp\n",
    "        return one\n",
    "    \n",
    "sol = Solution()\n",
    "\n",
    "climb = sol.climbStairs(6)\n",
    "print(climb)\n"
   ]
  },
  {
   "cell_type": "markdown",
   "id": "ac13cfff",
   "metadata": {},
   "source": [
    "# **Insertion Sort**"
   ]
  },
  {
   "cell_type": "code",
   "execution_count": 1,
   "id": "9ad97eb3",
   "metadata": {},
   "outputs": [
    {
     "name": "stdout",
     "output_type": "stream",
     "text": [
      "[1, 2, 3, 4, 5]\n"
     ]
    }
   ],
   "source": [
    "def insertion_Sort(arr):\n",
    "    #Iterate over each element from arr which starts from 1 index 1 because we need to swap two elements using comparison eg [2,3,4,1,5]\n",
    "    for i in range(1, len(arr)):\n",
    "        #Consider j = previous element of i for comparison in loop\n",
    "        j = i - 1\n",
    "        #Use while loop for checking whether next element is less than or not in sliding window of array , if it less than previous then swap both elements j+1 and j\n",
    "        while j >=0 and arr[j+1] < arr[j]:\n",
    "            #save arr[j+1] in temperory variable\n",
    "            tmp = arr[j+1]\n",
    "            #Now move or swap the next and prev element means 4 will move at position 4 <--> 1 and 1 goes to postion 4 [2,3,1,4,5]\n",
    "            arr[j+1] = arr[j]\n",
    "            #Now save temp into arr[j] means 1 for comparing with previous elements \n",
    "            arr[j] = tmp\n",
    "            \"\"\"Now we need to consider j for reducing it's index because we shifting next element which is less than previous element to left side so we need to compare it previous \n",
    "            elements which available in the array, so that automatically if tested next element is smaller element in the array will shift to 0th index array and so on.\n",
    "            Example in above array 1 is smallest element in the array will shift at 0th index followed by 2,3,4,5.\n",
    "            So reduce j by 1\n",
    "            \"\"\"\n",
    "            j -= 1\n",
    "\n",
    "    return arr\n",
    "\n",
    "print(insertion_Sort([2,3,4,1,5]))\n"
   ]
  },
  {
   "cell_type": "code",
   "execution_count": null,
   "id": "fa18511f",
   "metadata": {},
   "outputs": [],
   "source": []
  }
 ],
 "metadata": {
  "kernelspec": {
   "display_name": "interview",
   "language": "python",
   "name": "python3"
  },
  "language_info": {
   "codemirror_mode": {
    "name": "ipython",
    "version": 3
   },
   "file_extension": ".py",
   "mimetype": "text/x-python",
   "name": "python",
   "nbconvert_exporter": "python",
   "pygments_lexer": "ipython3",
   "version": "3.11.11"
  }
 },
 "nbformat": 4,
 "nbformat_minor": 5
}
