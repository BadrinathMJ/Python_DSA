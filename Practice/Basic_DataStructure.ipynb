{
 "cells": [
  {
   "cell_type": "markdown",
   "id": "1bda7ddf",
   "metadata": {},
   "source": [
    "# **Queues**"
   ]
  },
  {
   "cell_type": "markdown",
   "id": "7e399fd0",
   "metadata": {},
   "source": [
    "Another data structure that overlaps with arrays is a Queue. They are also similar to stacks, except they follow a FIFO approach (First in First Out).\n",
    "\n",
    "A real world example would be a line at the bank. The first person added to the line (queue) is the first person to be served."
   ]
  },
  {
   "cell_type": "markdown",
   "id": "84cd816d",
   "metadata": {},
   "source": [
    "# **Implementation and Operations**\n",
    "\n",
    "The easiest way to implement a queue is using a linked list.\n",
    "\n",
    "It is also possible to implement a queue using a dynamic array, but is more involved. To get the same time complexity as a linked list, you would need to use a circular array and perform some additional operations.\n",
    "The main two operations that queues support are enqueue and dequeue."
   ]
  },
  {
   "cell_type": "code",
   "execution_count": 1,
   "id": "e1a6224d",
   "metadata": {},
   "outputs": [],
   "source": [
    "class ListNode:\n",
    "    def __init__(self, val):\n",
    "        self.val = val \n",
    "        self.next = None\n",
    "        self.prev = None\n",
    "\n",
    "\n",
    "def enqueue(self, val):\n",
    "    newNode = ListNode(val)\n",
    "    #Queue is non empty\n",
    "    if self.right:\n",
    "        self.right.next = newNode\n",
    "        self.right = self.right.next\n",
    "    #Queue is empty\n",
    "    else:\n",
    "        self.left = self.right = newNode\n"
   ]
  },
  {
   "cell_type": "markdown",
   "id": "2160271b",
   "metadata": {},
   "source": [
    " \t\n",
    "# **Recursion (One Branch)**\n",
    "\n",
    "Recursion can be a difficult concept to wrap your head around so don't be discouraged if you don't understand it right away.\n",
    "\n",
    "Simply put, recursion is when a function calls itself, usually with a different input. This is known as a recursive function.\n",
    "\n",
    "Recursive functions can be thought of as functions that breaks down a problem into smaller sub-problems and solves them in reverse order. It's usually possible to convert a recursive function into an iterative one, and vice versa.\n",
    "\n",
    "For some problems an iterative solution can be much more simple to implement than a recursive one, and vice versa.\n",
    "Recursive functions have two parts:\n",
    "\n",
    "The base case.\n",
    "The recursive case.\n",
    "The concept of recursion applies to the real world as well. Consider a box that contains another box, which contains another box, and so on. This is a recursive structure.\n",
    "\n",
    "In this case, the base case would be the smallest box, and the recursive case would be the larger boxes that contain the smaller boxes.\n",
    "\n"
   ]
  },
  {
   "cell_type": "markdown",
   "id": "88496edc",
   "metadata": {},
   "source": []
  },
  {
   "cell_type": "code",
   "execution_count": 2,
   "id": "f83b294f",
   "metadata": {},
   "outputs": [
    {
     "data": {
      "text/plain": [
       "120"
      ]
     },
     "execution_count": 2,
     "metadata": {},
     "output_type": "execute_result"
    }
   ],
   "source": [
    "#Recusive function implementation of n!\n",
    "def factorial(n):\n",
    "    #Base case n=0 or n=1\n",
    "    if n <= 1:\n",
    "        return 1\n",
    "    #Recursive case n! = n*(n-1)!\n",
    "    return n * factorial(n-1)\n",
    "\n",
    "fact = factorial(5)\n",
    "fact"
   ]
  },
  {
   "cell_type": "code",
   "execution_count": null,
   "id": "5bbeccfb",
   "metadata": {},
   "outputs": [],
   "source": []
  },
  {
   "cell_type": "markdown",
   "id": "ef23c0a3",
   "metadata": {},
   "source": [
    "# **ReverseLinkedList**"
   ]
  },
  {
   "cell_type": "code",
   "execution_count": 4,
   "id": "023f5dd1",
   "metadata": {},
   "outputs": [
    {
     "name": "stdout",
     "output_type": "stream",
     "text": [
      "Original Linked List:\n",
      "1 -> 2 -> 3 -> 4 -> None\n",
      "Reversed Linked List:\n",
      "4 -> 3 -> 2 -> 1 -> None\n"
     ]
    }
   ],
   "source": [
    "#Definition for Singly Linked List\n",
    "class Node:\n",
    "    def __init__(self, data):\n",
    "        self.data = data\n",
    "        self.next = None\n",
    "\n",
    "class LinkedList:\n",
    "    def __init__(self):\n",
    "        self.head = None\n",
    "    \n",
    "    def append(self, data):\n",
    "        new_node = Node(data)\n",
    "        if self.head is None:\n",
    "            self.head = new_node\n",
    "            return\n",
    "        last_node = self.head\n",
    "        while last_node.next:\n",
    "            last_node = last_node.next\n",
    "        last_node.next = new_node\n",
    "    \n",
    "    def print_list(self):\n",
    "        current_node = self.head\n",
    "        while current_node:\n",
    "            print(current_node.data, end=\" -> \")\n",
    "            current_node = current_node.next\n",
    "        print(\"None\")\n",
    "\n",
    "    def reverselist(self):\n",
    "        prev_node = None\n",
    "        current_node = self.head\n",
    "        while current_node:\n",
    "            \"\"\"#Store the next node of current_node(suppose we have consider [1,2,3,4]. Current node = 1 and next_node = current.next = 2)\"\"\"\n",
    "            next_node = current_node.next  \n",
    "            \"\"\"Reverse the current node's pointer- Means current_node.next == 2 will become prev_node = 1.\n",
    "            We can say that current_node = prev_node = 1 and current_node.next = next_node = 2\n",
    "            \"\"\"\n",
    "            current_node.next = prev_node\n",
    "            \"\"\"Store the value of current_node into prev_node. SO prev_node will become = 1, this is the process moving pointer one position ahead\"\"\"\n",
    "            prev_node = current_node\n",
    "            \"\"\"Now current_node becomes next node for further iteration means current_node = 2 that is used for next iteration\"\"\"\n",
    "            current_node = next_node\n",
    "\n",
    "        \"\"\"Then update the the head of new first head- Means all reveresed values will updated in prev_node here\"\"\"\n",
    "        self.head = prev_node\n",
    "\n",
    "# Example usage\n",
    "llist = LinkedList()\n",
    "llist.append(1)\n",
    "llist.append(2)\n",
    "llist.append(3)\n",
    "llist.append(4)\n",
    "\n",
    "print(\"Original Linked List:\")\n",
    "llist.print_list()\n",
    "\n",
    "llist.reverselist()\n",
    "\n",
    "print(\"Reversed Linked List:\")\n",
    "llist.print_list()\n",
    "\n",
    "\n",
    "            \n",
    "\n"
   ]
  },
  {
   "cell_type": "code",
   "execution_count": null,
   "id": "ead2772b",
   "metadata": {},
   "outputs": [],
   "source": []
  }
 ],
 "metadata": {
  "kernelspec": {
   "display_name": "interview",
   "language": "python",
   "name": "python3"
  },
  "language_info": {
   "codemirror_mode": {
    "name": "ipython",
    "version": 3
   },
   "file_extension": ".py",
   "mimetype": "text/x-python",
   "name": "python",
   "nbconvert_exporter": "python",
   "pygments_lexer": "ipython3",
   "version": "3.11.11"
  }
 },
 "nbformat": 4,
 "nbformat_minor": 5
}
