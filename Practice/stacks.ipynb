{
 "cells": [
  {
   "cell_type": "markdown",
   "id": "ec61c415",
   "metadata": {},
   "source": [
    "# **Valid Parentheses**\n",
    "\n",
    "\n",
    "You are given a string s consisting of the following characters: '(', ')', '{', '}', '[' and ']'.\n",
    "\n",
    "The input string s is valid if and only if:\n",
    "\n",
    "Every open bracket is closed by the same type of close bracket.\n",
    "Open brackets are closed in the correct order.\n",
    "Every close bracket has a corresponding open bracket of the same type.\n",
    "Return true if s is a valid string, and false otherwise.\n",
    "\n",
    "Example 1:\n",
    "\n",
    "Input: s = \"[]\"\n",
    "\n",
    "Output: true\n",
    "Example 2:\n",
    "\n",
    "Input: s = \"([{}])\"\n",
    "\n",
    "Output: true"
   ]
  },
  {
   "cell_type": "code",
   "execution_count": 4,
   "id": "6e104add",
   "metadata": {},
   "outputs": [
    {
     "name": "stdout",
     "output_type": "stream",
     "text": [
      "True\n",
      "True\n"
     ]
    }
   ],
   "source": [
    "class ValidParantheses:\n",
    "    \"\"\" \n",
    "    Time complexity: O(n2)\n",
    "    Space complexity: O(n)\n",
    "    \"\"\"\n",
    "    def brute_force_val_par(self, s:str) ->bool:\n",
    "        while '()' in s or '{}' in s or '[]' in s:\n",
    "            s = s.replace('()','')\n",
    "            s = s.replace('{}','')\n",
    "            s = s.replace('[]', '')\n",
    "\n",
    "        return s == ''\n",
    "\n",
    "    \"\"\" \n",
    "    Time complexity: O(n)\n",
    "    Space complexity: O(n)\n",
    "    \"\"\"\n",
    "    def stack_val_par(self, s:str)-> bool:\n",
    "        #Initialize stack\n",
    "        stack = []\n",
    "        #Create dictionary who has key as a closing parantheses and value as openeing parantheses\n",
    "        closeToOpen = {\")\" : \"(\", \"]\" : \"[\", \"}\" : \"{\" }\n",
    "        #Iterate over the string\n",
    "        for c in s:\n",
    "            if c in closeToOpen:\n",
    "                if stack and stack[-1] == closeToOpen[c]:\n",
    "                    stack.pop()\n",
    "                else:\n",
    "                    return False\n",
    "            else:\n",
    "                stack.append(c)\n",
    "        return True if not stack else False\n",
    "val_pal = ValidParantheses()\n",
    "s = \"([{}])\"\n",
    "val_pal_brute = val_pal.brute_force_val_par(s)\n",
    "print(val_pal_brute)\n",
    "val_par_stack = val_pal.stack_val_par(s)\n",
    "print(val_par_stack)\n"
   ]
  },
  {
   "cell_type": "code",
   "execution_count": 7,
   "id": "044d5ce0",
   "metadata": {},
   "outputs": [
    {
     "name": "stdout",
     "output_type": "stream",
     "text": [
      "True\n",
      "True\n",
      "True\n",
      "False\n"
     ]
    }
   ],
   "source": [
    "closeToOpen = {\")\" : \"(\", \"]\" : \"[\", \"}\" : \"{\" }\n",
    "s = \"([{}])\"\n",
    "for c in s:\n",
    "    if c in closeToOpen:\n",
    "        \n",
    "        print(True)\n",
    "    \n",
    "else:\n",
    "    print(False)"
   ]
  },
  {
   "cell_type": "markdown",
   "id": "2e154d2c",
   "metadata": {},
   "source": [
    "\n",
    "# **Minimum Stack**\n",
    "Design a stack class that supports the push, pop, top, and getMin operations.\n",
    "\n",
    "MinStack() initializes the stack object.\n",
    "void push(int val) pushes the element val onto the stack.\n",
    "void pop() removes the element on the top of the stack.\n",
    "int top() gets the top element of the stack.\n",
    "int getMin() retrieves the minimum element in the stack.\n",
    "Each function should run in \n",
    "O\n",
    "(\n",
    "1\n",
    ")\n",
    "O(1) time.\n",
    "\n",
    "Example 1:\n",
    "\n",
    "Input: [\"MinStack\", \"push\", 1, \"push\", 2, \"push\", 0, \"getMin\", \"pop\", \"top\", \"getMin\"]\n",
    "\n",
    "Output: [null,null,null,null,0,null,2,1]\n",
    "\n",
    "Explanation:\n",
    "MinStack minStack = new MinStack();\n",
    "minStack.push(1);\n",
    "minStack.push(2);\n",
    "minStack.push(0);\n",
    "minStack.getMin(); // return 0\n",
    "minStack.pop();\n",
    "minStack.top();    // return 2\n",
    "minStack.getMin(); // return 1"
   ]
  },
  {
   "cell_type": "code",
   "execution_count": 5,
   "id": "242a373b",
   "metadata": {},
   "outputs": [
    {
     "name": "stdout",
     "output_type": "stream",
     "text": [
      "None\n"
     ]
    }
   ],
   "source": [
    "class MinStack:\n",
    "\n",
    "    def __init__(self):\n",
    "        #Initiated the stack in which value will append\n",
    "        self.stack = []  \n",
    "        #Initiated the minstack from which minimum value will pop up\n",
    "        self.minStack = []\n",
    "    def push(self, val: int) -> None:\n",
    "        ##For pushing the value in stack we append the value in stack\n",
    "        self.stack.append(val)\n",
    "        #Then we will find out the min value in between the top value of minStack and recent value which is append in stack\n",
    "        val  = min(val, self.minStack[-1] if self.minStack else val)\n",
    "        #Then again append this val into minStack\n",
    "        self.minStack.append(val)\n",
    "\n",
    "    def pop(self) -> None:\n",
    "        #Pop elements from both stacks\n",
    "        self.stack.pop()\n",
    "        self.minStack.pop()\n",
    "\n",
    "    def top(self) -> int:\n",
    "        return self.stack[-1]\n",
    "        \n",
    "\n",
    "    def getMin(self) -> int:\n",
    "        #minimum value is always be on top of minstack\n",
    "        return self.minStack[-1]\n",
    "        \n",
    "min_stack = MinStack()\n",
    "minimum_stack = min_stack.push(1)\n",
    "minimum_stack = min_stack.push(1)\n",
    "print(minimum_stack)"
   ]
  },
  {
   "cell_type": "markdown",
   "id": "96000511",
   "metadata": {},
   "source": [
    "# **Evaluate Reverse Polish Notation**\n",
    "You are given an array of strings tokens that represents a valid arithmetic expression in Reverse Polish Notation.\n",
    "\n",
    "Return the integer that represents the evaluation of the expression.\n",
    "\n",
    "The operands may be integers or the results of other operations.\n",
    "The operators include '+', '-', '*', and '/'.\n",
    "Assume that division between integers always truncates toward zero.\n",
    "Example 1:\n",
    "\n",
    "Input: tokens = [\"1\",\"2\",\"+\",\"3\",\"*\",\"4\",\"-\"]\n",
    "\n",
    "Output: 5\n",
    "\n",
    "Explanation: ((1 + 2) * 3) - 4 = 5"
   ]
  },
  {
   "cell_type": "code",
   "execution_count": 8,
   "id": "194beefb",
   "metadata": {},
   "outputs": [
    {
     "data": {
      "text/plain": [
       "5"
      ]
     },
     "execution_count": 8,
     "metadata": {},
     "output_type": "execute_result"
    }
   ],
   "source": [
    "from typing import List\n",
    "class EvalRPN:\n",
    "    def evalRPN(self, tokens: List[str]) -> int:\n",
    "        stack = []\n",
    "        for c in tokens:\n",
    "            if c == \"+\":\n",
    "                stack.append(stack.pop() + stack.pop())\n",
    "            elif c == \"-\":\n",
    "                a,b = stack.pop(), stack.pop()\n",
    "                stack.append(b-a)\n",
    "            elif c == \"*\":\n",
    "                stack.append(stack.pop() * stack.pop())\n",
    "            elif c == \"/\":\n",
    "                a,b = stack.pop(), stack.pop()\n",
    "                stack.append(int(float(b) / a))\n",
    "            else:\n",
    "                stack.append(int(c))\n",
    "        return stack[0]\n",
    "evalrpn = EvalRPN()\n",
    "tokens = [\"1\",\"2\",\"+\",\"3\",\"*\",\"4\",\"-\"]\n",
    "eval_rpn = evalrpn.evalRPN(tokens)          \n",
    "eval_rpn"
   ]
  },
  {
   "cell_type": "code",
   "execution_count": null,
   "id": "5493f66d",
   "metadata": {},
   "outputs": [],
   "source": []
  }
 ],
 "metadata": {
  "kernelspec": {
   "display_name": "interview",
   "language": "python",
   "name": "python3"
  },
  "language_info": {
   "codemirror_mode": {
    "name": "ipython",
    "version": 3
   },
   "file_extension": ".py",
   "mimetype": "text/x-python",
   "name": "python",
   "nbconvert_exporter": "python",
   "pygments_lexer": "ipython3",
   "version": "3.11.11"
  }
 },
 "nbformat": 4,
 "nbformat_minor": 5
}
