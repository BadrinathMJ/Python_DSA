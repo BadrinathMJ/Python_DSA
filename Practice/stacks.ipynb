{
 "cells": [
  {
   "cell_type": "markdown",
   "id": "ec61c415",
   "metadata": {},
   "source": [
    "# **Valid Parentheses**\n",
    "\n",
    "\n",
    "You are given a string s consisting of the following characters: '(', ')', '{', '}', '[' and ']'.\n",
    "\n",
    "The input string s is valid if and only if:\n",
    "\n",
    "Every open bracket is closed by the same type of close bracket.\n",
    "Open brackets are closed in the correct order.\n",
    "Every close bracket has a corresponding open bracket of the same type.\n",
    "Return true if s is a valid string, and false otherwise.\n",
    "\n",
    "Example 1:\n",
    "\n",
    "Input: s = \"[]\"\n",
    "\n",
    "Output: true\n",
    "Example 2:\n",
    "\n",
    "Input: s = \"([{}])\"\n",
    "\n",
    "Output: true"
   ]
  },
  {
   "cell_type": "code",
   "execution_count": 4,
   "id": "6e104add",
   "metadata": {},
   "outputs": [
    {
     "name": "stdout",
     "output_type": "stream",
     "text": [
      "True\n",
      "True\n"
     ]
    }
   ],
   "source": [
    "class ValidParantheses:\n",
    "    \"\"\" \n",
    "    Time complexity: O(n2)\n",
    "    Space complexity: O(n)\n",
    "    \"\"\"\n",
    "    def brute_force_val_par(self, s:str) ->bool:\n",
    "        while '()' in s or '{}' in s or '[]' in s:\n",
    "            s = s.replace('()','')\n",
    "            s = s.replace('{}','')\n",
    "            s = s.replace('[]', '')\n",
    "\n",
    "        return s == ''\n",
    "\n",
    "    \"\"\" \n",
    "    Time complexity: O(n)\n",
    "    Space complexity: O(n)\n",
    "    \"\"\"\n",
    "    def stack_val_par(self, s:str)-> bool:\n",
    "        #Initialize stack\n",
    "        stack = []\n",
    "        #Create dictionary who has key as a closing parantheses and value as openeing parantheses\n",
    "        closeToOpen = {\")\" : \"(\", \"]\" : \"[\", \"}\" : \"{\" }\n",
    "        #Iterate over the string\n",
    "        for c in s:\n",
    "            if c in closeToOpen:\n",
    "                if stack and stack[-1] == closeToOpen[c]:\n",
    "                    stack.pop()\n",
    "                else:\n",
    "                    return False\n",
    "            else:\n",
    "                stack.append(c)\n",
    "        return True if not stack else False\n",
    "val_pal = ValidParantheses()\n",
    "s = \"([{}])\"\n",
    "val_pal_brute = val_pal.brute_force_val_par(s)\n",
    "print(val_pal_brute)\n",
    "val_par_stack = val_pal.stack_val_par(s)\n",
    "print(val_par_stack)\n"
   ]
  },
  {
   "cell_type": "code",
   "execution_count": 6,
   "id": "044d5ce0",
   "metadata": {},
   "outputs": [
    {
     "name": "stdout",
     "output_type": "stream",
     "text": [
      "False\n"
     ]
    }
   ],
   "source": [
    "closeToOpen = {\")\" : \"(\", \"]\" : \"[\", \"}\" : \"{\" }\n",
    "if \")\" in closeToOpen:\n",
    "    if \")\" == closeToOpen.get(1):\n",
    "        print(True)\n",
    "    print(False)\n",
    "else:\n",
    "    print(False)"
   ]
  },
  {
   "cell_type": "code",
   "execution_count": null,
   "id": "242a373b",
   "metadata": {},
   "outputs": [],
   "source": []
  }
 ],
 "metadata": {
  "kernelspec": {
   "display_name": "interview",
   "language": "python",
   "name": "python3"
  },
  "language_info": {
   "codemirror_mode": {
    "name": "ipython",
    "version": 3
   },
   "file_extension": ".py",
   "mimetype": "text/x-python",
   "name": "python",
   "nbconvert_exporter": "python",
   "pygments_lexer": "ipython3",
   "version": "3.11.11"
  }
 },
 "nbformat": 4,
 "nbformat_minor": 5
}
