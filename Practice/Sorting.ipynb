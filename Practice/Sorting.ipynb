{
 "cells": [
  {
   "cell_type": "markdown",
   "id": "9648936f",
   "metadata": {},
   "source": [
    "# **Sorting**\n",
    "# **Insertion Sort**"
   ]
  },
  {
   "cell_type": "markdown",
   "id": "ae3b5db9",
   "metadata": {},
   "source": [
    "If array is given like [2,5,4,5,1]\n",
    "You need to sort array in ascending order\n",
    "\n",
    "It is very simple and easy to implement algorithm to sort the array in ascending order\n"
   ]
  },
  {
   "cell_type": "code",
   "execution_count": 7,
   "id": "8ad9c50e",
   "metadata": {},
   "outputs": [
    {
     "name": "stdout",
     "output_type": "stream",
     "text": [
      "[-1, 1, 2, 3, 4]\n"
     ]
    }
   ],
   "source": [
    "def insertionSort(arr):\n",
    "    \"\"\"We need to consider two elements like sliding window and start iterating from second element of the array\"\"\"\n",
    "    #Iterating through every element of array which starts from 1 to length of array\n",
    "    for i in range(1, len(arr)):\n",
    "        \"\"\"\n",
    "        We will consider first element as j , example arr = [4,5,1,6,7]\n",
    "        so here j = 5 which has got from j = i -1.\n",
    "        Why we are using j = i -1 because we need to use it in while loop for comparing it's previous element whether it is less than j or not. So let's start\n",
    "        with j = i -1\n",
    "        Here why we use while loop instead of if loop- becuase we need to continuosly check two elements i and j and swap them on the basis of given condition\n",
    "        i.e. next_element j+1 < j\n",
    "        \"\"\"\n",
    "        j = i - 1\n",
    "        #Here arr[j+1] = 5 and arr[j] = 4\n",
    "        while j >= 0 and arr[j+1] < arr[j]:\n",
    "            # arr[j] and arr[j + 1] are out of order so swap the\n",
    "            #Now we temp variable for starting the loop\n",
    "            tmp = arr[j+1]   #We set the 5 as temp variable\n",
    "            #Now swap the both elements if above condition is true i.e.\n",
    "            arr[j+1] = arr[j]  #So 1 goes to position of 5 means a[j+1] = 5 before swaping a[j+1] was 1 beacuase 1 less than 5 and now arr[j] = 1\n",
    "            arr[j] = tmp #then we set a[j] = 1 to tmp for comparing with previous elements whether less or not upto first element\n",
    "            j -= 1 #For that matter we reduce index of j by 1\n",
    "\n",
    "    return arr\n",
    "\n",
    "insertion_sorted = insertionSort([4,-1,2,1,3])\n",
    "print(insertion_sorted)"
   ]
  },
  {
   "cell_type": "code",
   "execution_count": null,
   "id": "2bd17351",
   "metadata": {},
   "outputs": [],
   "source": []
  }
 ],
 "metadata": {
  "kernelspec": {
   "display_name": "interview",
   "language": "python",
   "name": "python3"
  },
  "language_info": {
   "codemirror_mode": {
    "name": "ipython",
    "version": 3
   },
   "file_extension": ".py",
   "mimetype": "text/x-python",
   "name": "python",
   "nbconvert_exporter": "python",
   "pygments_lexer": "ipython3",
   "version": "3.11.11"
  }
 },
 "nbformat": 4,
 "nbformat_minor": 5
}
