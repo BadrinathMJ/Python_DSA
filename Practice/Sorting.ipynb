{
 "cells": [
  {
   "cell_type": "markdown",
   "id": "9648936f",
   "metadata": {},
   "source": [
    "# **Sorting**\n",
    "# **Insertion Sort**"
   ]
  },
  {
   "cell_type": "markdown",
   "id": "ae3b5db9",
   "metadata": {},
   "source": [
    "If array is given like [2,5,4,5,1]\n",
    "You need to sort array in ascending order\n",
    "\n",
    "It is very simple and easy to implement algorithm to sort the array in ascending order\n"
   ]
  },
  {
   "cell_type": "code",
   "execution_count": 7,
   "id": "8ad9c50e",
   "metadata": {},
   "outputs": [
    {
     "name": "stdout",
     "output_type": "stream",
     "text": [
      "[-1, 1, 2, 3, 4]\n"
     ]
    }
   ],
   "source": [
    "def insertionSort(arr):\n",
    "    \"\"\"We need to consider two elements like sliding window and start iterating from second element of the array\"\"\"\n",
    "    #Iterating through every element of array which starts from 1 to length of array\n",
    "    for i in range(1, len(arr)):\n",
    "        \"\"\"\n",
    "        We will consider first element as j , example arr = [4,5,1,6,7]\n",
    "        so here j = 5 which has got from j = i -1.\n",
    "        Why we are using j = i -1 because we need to use it in while loop for comparing it's previous element whether it is less than j or not. So let's start\n",
    "        with j = i -1\n",
    "        Here why we use while loop instead of if loop- becuase we need to continuosly check two elements i and j and swap them on the basis of given condition\n",
    "        i.e. next_element j+1 < j\n",
    "        \"\"\"\n",
    "        j = i - 1\n",
    "        #Here arr[j+1] = 5 and arr[j] = 4\n",
    "        while j >= 0 and arr[j+1] < arr[j]:\n",
    "            # arr[j] and arr[j + 1] are out of order so swap the\n",
    "            #Now we temp variable for starting the loop\n",
    "            tmp = arr[j+1]   #We set the 5 as temp variable\n",
    "            #Now swap the both elements if above condition is true i.e.\n",
    "            arr[j+1] = arr[j]  #So 1 goes to position of 5 means a[j+1] = 5 before swaping a[j+1] was 1 beacuase 1 less than 5 and now arr[j] = 1\n",
    "            arr[j] = tmp #then we set a[j] = 1 to tmp for comparing with previous elements whether less or not upto first element\n",
    "            j -= 1 #For that matter we reduce index of j by 1\n",
    "\n",
    "    return arr\n",
    "\n",
    "insertion_sorted = insertionSort([4,-1,2,1,3])\n",
    "print(insertion_sorted)"
   ]
  },
  {
   "cell_type": "markdown",
   "id": "ca915e36",
   "metadata": {},
   "source": [
    "# **Merge Sort**\n",
    "\n",
    "In merge sort, we used to split the array into halves until the subarrays hit a size of one. Then recursively sort the subarrays by merging two subarrays at a time. The final array will be fully sorted.\n",
    "\n",
    "* This is two-branch recursion, similar to the fibonacci sequence."
   ]
  },
  {
   "cell_type": "code",
   "execution_count": null,
   "id": "2bd17351",
   "metadata": {},
   "outputs": [
    {
     "name": "stdout",
     "output_type": "stream",
     "text": [
      "[1, 2, 3, 4, 6]\n"
     ]
    }
   ],
   "source": [
    "def merge_sort(arr, s, e):\n",
    "    \"\"\" \n",
    "    parameters:\n",
    "        arr: array = [3,2,4,1,6]\n",
    "        We split the array into two halves left and right half. We use the two pointers to denote these and passing it to s, m and e \n",
    "        s = start of the array\n",
    "        e = end of the array\n",
    "\n",
    "    \"\"\"\n",
    "    \"\"\"Following code is for base case where if the length of the array is less than or equal to 1 so as to return the base case don't need to go beyond that.\"\"\"\n",
    "    if e - s + 1 <= 1:\n",
    "        return arr\n",
    "    \n",
    "    #Find out the middle index of the array for splitting the array into two halves\n",
    "    m = (s+e) // 2\n",
    "    #Sort the left half, here we use recursive approach\n",
    "    merge_sort(arr, s, m) #Here m is the end index of left half \n",
    "\n",
    "    #Sort the right half of array\n",
    "    merge_sort(arr, m+1, e) #Here we need to start the right half from left so left index= m+1\n",
    "\n",
    "    #Merge sorted halves\n",
    "    merge(arr, s, m,e)\n",
    "\n",
    "    return arr\n",
    "\n",
    "\n",
    "#Merge in place, this is for merging the sorted left and right half together at final stage\n",
    "def merge(arr, s, m, e):\n",
    "    #Copy the sorted left and right halfs to temp arrays\n",
    "    \"\"\" \n",
    "    Indexing of Left half = L = arr[s:m+1] starting point(s) = 0 and end point(m+1) = 1. Here in array = [3,2,4,1,6] \n",
    "    Left half = [3,2,4] and Right Half = [1,6]\n",
    "    Again split in Left half into [3,2] and [4]\n",
    "    again into [3], [2] and [4]\n",
    "    So at base case left half = [3]\n",
    "    right half = [2]\n",
    "    s = 0\n",
    "    m = 0\n",
    "    e = m + 1 = 0+1 = 1\n",
    "    L = arr[s:m+1] = arr[0:1] = 3\n",
    "    R = arr[m+1:e+1] = arr[1:2] = 2\n",
    "    Right Half = [1,6]\n",
    "    Splitted into [1] and [6]\n",
    "    So as per desired base case = 1 we have got only one element in the last array\n",
    "\n",
    "    \"\"\"\n",
    "    L = arr[s:m+1]\n",
    "    R = arr[m+1:e+1]\n",
    "    # Started with index\n",
    "    i = 0 #index for L\n",
    "    j = 0 #index for R\n",
    "    k = s #index for arr\n",
    "\n",
    "    #Merge the two sorted two halves of original array into original array\n",
    "    while i < len(L) and j < len(R):\n",
    "        if L[i] <= R[j]:\n",
    "            arr[k] = L[i] #Swap with index of Left of the array if above condition will satisfy \n",
    "            i += 1 #Increment in the counter by 1 for further iteration in the while loop\n",
    "        else:\n",
    "            arr[k] = R[j] #Swap with index of Left of the array if above condition will not satisfy \n",
    "            j += 1  #Increment in the counter by 1 for further iteration in the while loop\n",
    "\n",
    "        k += 1\n",
    "    #One of the halfs will have elements remaining\n",
    "    #Following two while loops are for updating elements of index k in array \n",
    "    while i < len(L):\n",
    "        arr[k] = L[i]\n",
    "        i += 1\n",
    "        k += 1\n",
    "    while j < len(R):\n",
    "        arr[k] = R[j]\n",
    "        j += 1\n",
    "        k += 1\n",
    "\n",
    "    \n",
    "\n",
    "arr = [3,2,4,1,6]\n",
    "s = 0\n",
    "e = len(arr) - 1\n",
    "print(merge_sort(arr, s, e))"
   ]
  },
  {
   "cell_type": "code",
   "execution_count": null,
   "id": "c53a02c6",
   "metadata": {},
   "outputs": [],
   "source": []
  }
 ],
 "metadata": {
  "kernelspec": {
   "display_name": "interview",
   "language": "python",
   "name": "python3"
  },
  "language_info": {
   "codemirror_mode": {
    "name": "ipython",
    "version": 3
   },
   "file_extension": ".py",
   "mimetype": "text/x-python",
   "name": "python",
   "nbconvert_exporter": "python",
   "pygments_lexer": "ipython3",
   "version": "3.11.11"
  }
 },
 "nbformat": 4,
 "nbformat_minor": 5
}
